{
  "nbformat": 4,
  "nbformat_minor": 0,
  "metadata": {
    "colab": {
      "provenance": [],
      "authorship_tag": "ABX9TyPM5CC3E9t8B9tHAdmzcLkw",
      "include_colab_link": true
    },
    "kernelspec": {
      "name": "python3",
      "display_name": "Python 3"
    },
    "language_info": {
      "name": "python"
    }
  },
  "cells": [
    {
      "cell_type": "markdown",
      "metadata": {
        "id": "view-in-github",
        "colab_type": "text"
      },
      "source": [
        "<a href=\"https://colab.research.google.com/github/egerling/Analise_Sentimento_de_Redes_Sociais/blob/main/Analise_Sentimento_Twitter.ipynb\" target=\"_parent\"><img src=\"https://colab.research.google.com/assets/colab-badge.svg\" alt=\"Open In Colab\"/></a>"
      ]
    },
    {
      "cell_type": "code",
      "source": [
        "!pip install -q -U google-generativeai"
      ],
      "metadata": {
        "id": "aMFPxoYhMvK3"
      },
      "execution_count": null,
      "outputs": []
    },
    {
      "cell_type": "code",
      "source": [
        "pip install tweepy -q -U"
      ],
      "metadata": {
        "id": "AlT0parfMxJX"
      },
      "execution_count": null,
      "outputs": []
    },
    {
      "cell_type": "code",
      "source": [
        "from typing import Any\n",
        "import tweepy\n",
        "import pandas as pd\n",
        "from textblob import TextBlob\n",
        "import datetime\n",
        "import matplotlib.pyplot as plt\n",
        "import google.generativeai as genai\n",
        "\n",
        "from google.cloud import aiplatform\n",
        "\n",
        "from google.colab import userdata\n",
        "\n",
        "GOOGLE_API_KEY = userdata.get('GeminiAI')\n",
        "\n",
        "#aiplatform.init(project=config.PROJECT_ID, location=config.REGION, api_key=config.GOOGLE_API_KEY)\n",
        "aiplatform.init()\n",
        "\n",
        "# Credenciais do Twitter (substitua com suas credenciais)\n",
        "bearer_token = userdata.get('twbearer')\n",
        "consumer_key = userdata.get(\"twapikey\")\n",
        "consumer_secret = userdata.get(\"twapisecret\")\n",
        "access_token = userdata.get(\"twacesstok\")\n",
        "access_token_secret = userdata.get(\"twacesssecrettok\")\n",
        "\n",
        "# Criar cliente da API v2\n",
        "client = tweepy.Client(bearer_token=bearer_token)\n",
        "# api = tweepy.API(auth)\n",
        "\n",
        "\n",
        "def analyze_sentiment(text):\n",
        "    \"\"\"Analisa o sentimento de um texto usando o Gemini.\"\"\"\n",
        "    response = aiplatform.gapic.ModelServiceClient().predict(\n",
        "        endpoint=config.GEMINI_ENDPOINT,\n",
        "        instances=[{\"content\": text}],\n",
        "        parameters={\"temperature\": 0.0},\n",
        "    )\n",
        "\n",
        "    sentiment = response.predictions[0]['sentiment']\n",
        "    return sentiment['score']\n",
        "\n",
        "def get_tweets(hashtag, hours=24, max_results=100):\n",
        "  \"\"\"Coleta tweets com a hashtag especificada nas últimas 'hours' horas.\"\"\"\n",
        "  now = datetime.datetime.utcnow()\n",
        "  since = now - datetime.timedelta(hours=hours)\n",
        "  tweets = []\n",
        "\n",
        "  # Parâmetros da busca\n",
        "  query = f'{hashtag} lang:pt -is:retweet'\n",
        "  start_time = since.isoformat()\n",
        "  end_time = now.isoformat()\n",
        "\n",
        "\n",
        "  for tweet in tweepy.Paginator(client.search_recent_tweets, query=query,\n",
        "                                start_time=start_time, end_time=end_time,\n",
        "                                tweet_fields=['created_at', 'text'], max_results=100).flatten(limit=1000):\n",
        "    tweets.append([tweet.created_at, tweet.text])\n",
        "\n",
        "  return tweets\n",
        "\n",
        "def main():\n",
        "  \"\"\"Função principal para coletar, analisar e visualizar sentimentos de tweets.\"\"\"\n",
        "  hashtag = input(\"Digite a hashtag que deseja analisar: \")\n",
        "\n",
        "  tweets = get_tweets(hashtag, max_results=10)\n",
        "\n",
        "  if tweets:\n",
        "    df_tweets = pd.DataFrame(tweets, columns=['Data', 'Tweet'])\n",
        "    df_tweets['Sentimento'] = df_tweets['Tweet'].apply(analyze_sentiment)\n",
        "\n",
        "    # Calcular a média de sentimento\n",
        "    media_sentimento = df_tweets['Sentimento'].mean()\n",
        "    print(f\"Média de Sentimento para #{hashtag}: {media_sentimento:.2f}\")\n",
        "\n",
        "    # Visualização\n",
        "    plt.figure(figsize=(10, 5))\n",
        "    plt.plot(df_tweets['Data'], df_tweets['Sentimento'], label='Sentimento')\n",
        "    plt.title(f'Análise de Sentimento para #{hashtag} nas últimas 24 horas')\n",
        "    plt.xlabel('Data')\n",
        "    plt.ylabel('Score de Sentimento')\n",
        "    plt.legend()\n",
        "    plt.show()\n",
        "  else:\n",
        "    print(f\"Nenhum tweet encontrado para #{hashtag} nas últimas 24 horas.\")\n",
        "\n",
        "if __name__ == \"__main__\":\n",
        "  main()"
      ],
      "metadata": {
        "id": "YXweMxf2oAkR"
      },
      "execution_count": null,
      "outputs": []
    }
  ]
}